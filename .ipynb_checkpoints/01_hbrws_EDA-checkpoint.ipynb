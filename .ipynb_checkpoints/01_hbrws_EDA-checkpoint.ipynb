{
 "cells": [
  {
   "cell_type": "markdown",
   "metadata": {},
   "source": [
    "### Exploratory analysis of the book of Hebrews\n",
    "- purpose: primarily for NLP exploration\n",
    "- method: scrape the book of hebrews from the web"
   ]
  },
  {
   "cell_type": "code",
   "execution_count": 2,
   "metadata": {},
   "outputs": [
    {
     "name": "stdout",
     "output_type": "stream",
     "text": [
      "User-agent: *\n",
      "Disallow: /media/\n",
      "Disallow: /static/\n",
      "Disallow: /account/\n",
      "Disallow: /search/*?*\n",
      "Allow: /\n",
      "\n"
     ]
    }
   ],
   "source": [
    "import requests\n",
    "\n",
    "url = 'https://www.esv.org/robots.txt'\n",
    "response  = requests.get(url)\n",
    "print(response.text)\n"
   ]
  },
  {
   "cell_type": "code",
   "execution_count": 3,
   "metadata": {},
   "outputs": [
    {
     "name": "stdout",
     "output_type": "stream",
     "text": [
      "<Response [200]>\n"
     ]
    }
   ],
   "source": [
    "test = requests.get(\"https://www.esv.org\")\n",
    "print(test)"
   ]
  },
  {
   "cell_type": "code",
   "execution_count": 41,
   "metadata": {},
   "outputs": [
    {
     "name": "stdout",
     "output_type": "stream",
     "text": [
      "Mozilla/5.0 (Windows NT 6.2; WOW64) AppleWebKit/537.36 (KHTML like Gecko) Chrome/46.0.2486.0 Safari/537.36 Edge/13.9200\n"
     ]
    }
   ],
   "source": [
    "import numpy as np\n",
    "import pandas as pd\n",
    "\n",
    "import requests\n",
    "from bs4 import BeautifulSoup\n",
    "\n",
    "## allows us to use reg expressions to search fields\n",
    "import re\n",
    "\n",
    "from selenium import webdriver\n",
    "from selenium.webdriver.support.ui import WebDriverWait\n",
    "from selenium.webdriver.common.keys import Keys\n",
    "from selenium.webdriver.common.by import By\n",
    "\n",
    "from selenium.webdriver.support import expected_conditions as EC\n",
    "\n",
    "import random\n",
    "import time\n",
    "import csv\n",
    "import os\n",
    "\n",
    "chromedriver = \"/Applications/chromedriver\" # path to the chromedriver executable\n",
    "os.environ[\"webdriver.chrome.driver\"] = chromedriver\n",
    "\n",
    "# user agent\n",
    "from selenium.webdriver.chrome.options import Options\n",
    "from fake_useragent import UserAgent\n",
    "\n",
    "options = Options()\n",
    "ua = UserAgent()\n",
    "userAgent = ua.random\n",
    "print(userAgent)\n",
    "options.add_argument(f'user-agent={userAgent}')\n",
    "\n",
    "#driver = webdriver.Chrome(chrome_options=options)\n"
   ]
  },
  {
   "cell_type": "markdown",
   "metadata": {},
   "source": [
    "### II. Selenium to scrape album contents"
   ]
  },
  {
   "cell_type": "code",
   "execution_count": 26,
   "metadata": {},
   "outputs": [
    {
     "name": "stderr",
     "output_type": "stream",
     "text": [
      "<ipython-input-26-9d92fa4564d5>:1: DeprecationWarning: use options instead of chrome_options\n",
      "  driver = webdriver.Chrome(chromedriver,chrome_options=options)\n"
     ]
    },
    {
     "name": "stdout",
     "output_type": "stream",
     "text": [
      "['Remind', ' ', 'them', ' ', 'to', ' ', 'be', ' ', 'submissive', ' ', 'to', ' ', 'rulers', ' ', 'and', ' ', 'authorities', ',', ' ', 'to', ' ', 'be', ' ', 'obedient', ',', ' ', 'to', ' ', 'be', ' ', 'ready', ' ', 'for', ' ', 'every', ' ', 'good', ' ', 'work', ',', ' ', 'to', ' ', 'speak', ' ', 'evil', ' ', 'of', ' ', 'no', ' ', 'one', ',', ' ', 'to', ' ', 'avoid', ' ', 'quarreling', ',', ' ', 'to', ' ', 'be', ' ', 'gentle', ',', ' ', 'and', ' ', 'to', ' ', 'show', ' ', 'perfect', ' ', 'courtesy', ' ', 'toward', ' ', 'all', ' ', 'people', '.', ' ', 'For', ' ', 'we', ' ', 'ourselves', ' ', 'were', ' ', 'once', ' ', 'foolish', ',', ' ', 'disobedient', ',', ' ', 'led', ' ', 'astray', ',', ' ', 'slaves', ' ', 'to', ' ', 'various', ' ', 'passions', ' ', 'and', ' ', 'pleasures', ',', ' ', 'passing', ' ', 'our', ' ', 'days', ' ', 'in', ' ', 'malice', ' ', 'and', ' ', 'envy', ',', ' ', 'hated', ' ', 'by', ' ', 'others', ' ', 'and', ' ', 'hating', ' ', 'one', ' ', 'another', '.', ' ', 'But', ' ', 'when', ' ', 'the', ' ', 'goodness', ' ', 'and', ' ', 'loving', ' ', 'kindness', ' ', 'of', ' ', 'God', ' ', 'our', ' ', 'Savior', ' ', 'appeared', ',', ' ', 'he', ' ', 'saved', ' ', 'us', ',', ' ', 'not', ' ', 'because', ' ', 'of', ' ', 'works', ' ', 'done', ' ', 'by', ' ', 'us', ' ', 'in', ' ', 'righteousness', ',', ' ', 'but', ' ', 'according', ' ', 'to', ' ', 'his', ' ', 'own', ' ', 'mercy', ',', ' ', 'by', ' ', 'the', ' ', 'washing', ' ', 'of', ' ', 'regeneration', ' ', 'and', ' ', 'renewal', ' ', 'of', ' ', 'the', ' ', 'Holy', ' ', 'Spirit', ',', ' ', 'whom', ' ', 'he', ' ', 'poured', ' ', 'out', ' ', 'on', ' ', 'us', ' ', 'richly', ' ', 'through', ' ', 'Jesus', ' ', 'Christ', ' ', 'our', ' ', 'Savior', ',', ' ', 'so', ' ', 'that', ' ', 'being', ' ', 'justified', ' ', 'by', ' ', 'his', ' ', 'grace', ' ', 'we', ' ', 'might', ' ', 'become', ' ', 'heirs', ' ', 'according', ' ', 'to', ' ', 'the', ' ', 'hope', ' ', 'of', ' ', 'eternal', ' ', 'life', '.', ' ', 'The', ' ', 'saying', ' ', 'is', ' ', 'trustworthy', ',', ' ', 'and', ' ', 'I', ' ', 'want', ' ', 'you', ' ', 'to', ' ', 'insist', ' ', 'on', ' ', 'these', ' ', 'things', ',', ' ', 'so', ' ', 'that', ' ', 'those', ' ', 'who', ' ', 'have', ' ', 'believed', ' ', 'in', ' ', 'God', ' ', 'may', ' ', 'be', ' ', 'careful', ' ', 'to', ' ', 'devote', ' ', 'themselves', ' ', 'to', ' ', 'good', ' ', 'works', '.', ' ', 'These', ' ', 'things', ' ', 'are', ' ', 'excellent', ' ', 'and', ' ', 'profitable', ' ', 'for', ' ', 'people', '.', ' ', 'But', ' ', 'avoid', ' ', 'foolish', ' ', 'controversies', ',', ' ', 'genealogies', ',', ' ', 'dissensions', ',', ' ', 'and', ' ', 'quarrels', ' ', 'about', ' ', 'the', ' ', 'law', ',', ' ', 'for', ' ', 'they', ' ', 'are', ' ', 'unprofitable', ' ', 'and', ' ', 'worthless', '.', ' ', 'As', ' ', 'for', ' ', 'a', ' ', 'person', ' ', 'who', ' ', 'stirs', ' ', 'up', ' ', 'division', ',', ' ', 'after', ' ', 'warning', ' ', 'him', ' ', 'once', ' ', 'and', ' ', 'then', ' ', 'twice', ',', ' ', 'have', ' ', 'nothing', ' ', 'more', ' ', 'to', ' ', 'do', ' ', 'with', ' ', 'him', ',', ' ', 'knowing', ' ', 'that', ' ', 'such', ' ', 'a', ' ', 'person', ' ', 'is', ' ', 'warped', ' ', 'and', ' ', 'sinful', ';', ' ', 'he', ' ', 'is', ' ', 'self-condemned', '.', 'When', ' ', 'I', ' ', 'send', ' ', 'Artemas', ' ', 'or', ' ', 'Tychicus', ' ', 'to', ' ', 'you', ',', ' ', 'do', ' ', 'your', ' ', 'best', ' ', 'to', ' ', 'come', ' ', 'to', ' ', 'me', ' ', 'at', ' ', 'Nicopolis', ',', ' ', 'for', ' ', 'I', ' ', 'have', ' ', 'decided', ' ', 'to', ' ', 'spend', ' ', 'the', ' ', 'winter', ' ', 'there', '.', ' ', 'Do', ' ', 'your', ' ', 'best', ' ', 'to', ' ', 'speed', ' ', 'Zenas', ' ', 'the', ' ', 'lawyer', ' ', 'and', ' ', 'Apollos', ' ', 'on', ' ', 'their', ' ', 'way', ';', ' ', 'see', ' ', 'that', ' ', 'they', ' ', 'lack', ' ', 'nothing', '.', ' ', 'And', ' ', 'let', ' ', 'our', ' ', 'people', ' ', 'learn', ' ', 'to', ' ', 'devote', ' ', 'themselves', ' ', 'to', ' ', 'good', ' ', 'works', ',', ' ', 'so', ' ', 'as', ' ', 'to', ' ', 'help', ' ', 'cases', ' ', 'of', ' ', 'urgent', ' ', 'need', ',', ' ', 'and', ' ', 'not', ' ', 'be', ' ', 'unfruitful', '.', 'All', ' ', 'who', ' ', 'are', ' ', 'with', ' ', 'me', ' ', 'send', ' ', 'greetings', ' ', 'to', ' ', 'you', '.', ' ', 'Greet', ' ', 'those', ' ', 'who', ' ', 'love', ' ', 'us', ' ', 'in', ' ', 'the', ' ', 'faith', '.', 'Grace', ' ', 'be', ' ', 'with', ' ', 'you', ' ', 'all', '.', 'Paul', ',', ' ', 'a', ' ', 'prisoner', ' ', 'for', ' ', 'Christ', ' ', 'Jesus', ',', ' ', 'and', ' ', 'Timothy', ' ', 'our', ' ', 'brother', ',', 'To', ' ', 'Philemon', ' ', 'our', ' ', 'beloved', ' ', 'fellow', ' ', 'worker', ' ', 'and', ' ', 'Apphia', ' ', 'our', ' ', 'sister', ' ', 'and', ' ', 'Archippus', ' ', 'our', ' ', 'fellow', ' ', 'soldier', ',', ' ', 'and', ' ', 'the', ' ', 'church', ' ', 'in', ' ', 'your', ' ', 'house', ':', 'Grace', ' ', 'to', ' ', 'you', ' ', 'and', ' ', 'peace', ' ', 'from', ' ', 'God', ' ', 'our', ' ', 'Father', ' ', 'and', ' ', 'the', ' ', 'Lord', ' ', 'Jesus', ' ', 'Christ', '.', 'I', ' ', 'thank', ' ', 'my', ' ', 'God', ' ', 'always', ' ', 'when', ' ', 'I', ' ', 'remember', ' ', 'you', ' ', 'in', ' ', 'my', ' ', 'prayers', ',', ' ', 'because', ' ', 'I', ' ', 'hear', ' ', 'of', ' ', 'your', ' ', 'love', ' ', 'and', ' ', 'of', ' ', 'the', ' ', 'faith', ' ', 'that', ' ', 'you', ' ', 'have', ' ', 'toward', ' ', 'the', ' ', 'Lord', ' ', 'Jesus', ' ', 'and', ' ', 'for', ' ', 'all', ' ', 'the', ' ', 'saints', ',', ' ', 'and', ' ', 'I', ' ', 'pray', ' ', 'that', ' ', 'the', ' ', 'sharing', ' ', 'of', ' ', 'your', ' ', 'faith', ' ', 'may', ' ', 'become', ' ', 'effective', ' ', 'for', ' ', 'the', ' ', 'full', ' ', 'knowledge', ' ', 'of', ' ', 'every', ' ', 'good', ' ', 'thing', ' ', 'that', ' ', 'is', ' ', 'in', ' ', 'us', ' ', 'for', ' ', 'the', ' ', 'sake', ' ', 'of', ' ', 'Christ', '.', ' ', 'For', ' ', 'I', ' ', 'have', ' ', 'derived', ' ', 'much', ' ', 'joy', ' ', 'and', ' ', 'comfort', ' ', 'from', ' ', 'your', ' ', 'love', ',', ' ', 'my', ' ', 'brother', ',', ' ', 'because', ' ', 'the', ' ', 'hearts', ' ', 'of', ' ', 'the', ' ', 'saints', ' ', 'have', ' ', 'been', ' ', 'refreshed', ' ', 'through', ' ', 'you', '.', 'Accordingly', ',', ' ', 'though', ' ', 'I', ' ', 'am', ' ', 'bold', ' ', 'enough', ' ', 'in', ' ', 'Christ', ' ', 'to', ' ', 'command', ' ', 'you', ' ', 'to', ' ', 'do', ' ', 'what', ' ', 'is', ' ', 'required', ',', ' ', 'yet', ' ', 'for', ' ', 'love’s', ' ', 'sake', ' ', 'I', ' ', 'prefer', ' ', 'to', ' ', 'appeal', ' ', 'to', ' ', 'you', '—', 'I', ',', ' ', 'Paul', ',', ' ', 'an', ' ', 'old', ' ', 'man', ' ', 'and', ' ', 'now', ' ', 'a', ' ', 'prisoner', ' ', 'also', ' ', 'for', ' ', 'Christ', ' ', 'Jesus', '—', 'I', ' ', 'appeal', ' ', 'to', ' ', 'you', ' ', 'for', ' ', 'my', ' ', 'child', ',', ' ', 'Onesimus', ',', ' ', 'whose', ' ', 'father', ' ', 'I', ' ', 'became', ' ', 'in', ' ', 'my', ' ', 'imprisonment', '.', ' ', '(', 'Formerly', ' ', 'he', ' ', 'was', ' ', 'useless', ' ', 'to', ' ', 'you', ',', ' ', 'but', ' ', 'now', ' ', 'he', ' ', 'is', ' ', 'indeed', ' ', 'useful', ' ', 'to', ' ', 'you', ' ', 'and', ' ', 'to', ' ', 'me', '.', ')', ' ', 'I', ' ', 'am', ' ', 'sending', ' ', 'him', ' ', 'back', ' ', 'to', ' ', 'you', ',', ' ', 'sending', ' ', 'my', ' ', 'very', ' ', 'heart', '.', ' ', 'I', ' ', 'would', ' ', 'have', ' ', 'been', ' ', 'glad', ' ', 'to', ' ', 'keep', ' ', 'him', ' ', 'with', ' ', 'me', ',', ' ', 'in', ' ', 'order', ' ', 'that', ' ', 'he', ' ', 'might', ' ', 'serve', ' ', 'me', ' ', 'on', ' ', 'your', ' ', 'behalf', ' ', 'during', ' ', 'my', ' ', 'imprisonment', ' ', 'for', ' ', 'the', ' ', 'gospel', ',', ' ', 'but', ' ', 'I', ' ', 'preferred', ' ', 'to', ' ', 'do', ' ', 'nothing', ' ', 'without', ' ', 'your', ' ', 'consent', ' ', 'in', ' ', 'order', ' ', 'that', ' ', 'your', ' ', 'goodness', ' ', 'might', ' ', 'not', ' ', 'be', ' ', 'by', ' ', 'compulsion', ' ', 'but', ' ', 'of', ' ', 'your', ' ', 'own', ' ', 'accord', '.', ' ', 'For', ' ', 'this', ' ', 'perhaps', ' ', 'is', ' ', 'why', ' ', 'he', ' ', 'was', ' ', 'parted', ' ', 'from', ' ', 'you', ' ', 'for', ' ', 'a', ' ', 'while', ',', ' ', 'that', ' ', 'you', ' ', 'might', ' ', 'have', ' ', 'him', ' ', 'back', ' ', 'forever', ',', ' ', 'no', ' ', 'longer', ' ', 'as', ' ', 'a', ' ', 'bondservant', ' ', 'but', ' ', 'more', ' ', 'than', ' ', 'a', ' ', 'bondservant', ',', ' ', 'as', ' ', 'a', ' ', 'beloved', ' ', 'brother', '—', 'especially', ' ', 'to', ' ', 'me', ',', ' ', 'but', ' ', 'how', ' ', 'much', ' ', 'more', ' ', 'to', ' ', 'you', ',', ' ', 'both', ' ', 'in', ' ', 'the', ' ', 'flesh', ' ', 'and', ' ', 'in', ' ', 'the', ' ', 'Lord', '.', 'So', ' ', 'if', ' ', 'you', ' ', 'consider', ' ', 'me', ' ', 'your', ' ', 'partner', ',', ' ', 'receive', ' ', 'him', ' ', 'as', ' ', 'you', ' ', 'would', ' ', 'receive', ' ', 'me', '.', ' ', 'If', ' ', 'he', ' ', 'has', ' ', 'wronged', ' ', 'you', ' ', 'at', ' ', 'all', ',', ' ', 'or', ' ', 'owes', ' ', 'you', ' ', 'anything', ',', ' ', 'charge', ' ', 'that', ' ', 'to', ' ', 'my', ' ', 'account', '.', ' ', 'I', ',', ' ', 'Paul', ',', ' ', 'write', ' ', 'this', ' ', 'with', ' ', 'my', ' ', 'own', ' ', 'hand', ':', ' ', 'I', ' ', 'will', ' ', 'repay', ' ', 'it', '—', 'to', ' ', 'say', ' ', 'nothing', ' ', 'of', ' ', 'your', ' ', 'owing', ' ', 'me', ' ', 'even', ' ', 'your', ' ', 'own', ' ', 'self', '.', ' ', 'Yes', ',', ' ', 'brother', ',', ' ', 'I', ' ', 'want', ' ', 'some', ' ', 'benefit', ' ', 'from', ' ', 'you', ' ', 'in', ' ', 'the', ' ', 'Lord', '.', ' ', 'Refresh', ' ', 'my', ' ', 'heart', ' ', 'in', ' ', 'Christ', '.', 'Confident', ' ', 'of', ' ', 'your', ' ', 'obedience', ',', ' ', 'I', ' ', 'write', ' ', 'to', ' ', 'you', ',', ' ', 'knowing', ' ', 'that', ' ', 'you', ' ', 'will', ' ', 'do', ' ', 'even', ' ', 'more', ' ', 'than', ' ', 'I', ' ', 'say', '.', ' ', 'At', ' ', 'the', ' ', 'same', ' ', 'time', ',', ' ', 'prepare', ' ', 'a', ' ', 'guest', ' ', 'room', ' ', 'for', ' ', 'me', ',', ' ', 'for', ' ', 'I', ' ', 'am', ' ', 'hoping', ' ', 'that', ' ', 'through', ' ', 'your', ' ', 'prayers', ' ', 'I', ' ', 'will', ' ', 'be', ' ', 'graciously', ' ', 'given', ' ', 'to', ' ', 'you', '.', 'Epaphras', ',', ' ', 'my', ' ', 'fellow', ' ', 'prisoner', ' ', 'in', ' ', 'Christ', ' ', 'Jesus', ',', ' ', 'sends', ' ', 'greetings', ' ', 'to', ' ', 'you', ',', ' ', 'and', ' ', 'so', ' ', 'do', ' ', 'Mark', ',', ' ', 'Aristarchus', ',', ' ', 'Demas', ',', ' ', 'and', ' ', 'Luke', ',', ' ', 'my', ' ', 'fellow', ' ', 'workers', '.', 'The', ' ', 'grace', ' ', 'of', ' ', 'the', ' ', 'Lord', ' ', 'Jesus', ' ', 'Christ', ' ', 'be', ' ', 'with', ' ', 'your', ' ', 'spirit', '.', 'Long', ' ', 'ago', ',', ' ', 'at', ' ', 'many', ' ', 'times', ' ', 'and', ' ', 'in', ' ', 'many', ' ', 'ways', ',', ' ', 'God', ' ', 'spoke', ' ', 'to', ' ', 'our', ' ', 'fathers', ' ', 'by', ' ', 'the', ' ', 'prophets', ',', ' ', 'but', ' ', 'in', ' ', 'these', ' ', 'last', ' ', 'days', ' ', 'he', ' ', 'has', ' ', 'spoken', ' ', 'to', ' ', 'us', ' ', 'by', ' ', 'his', ' ', 'Son', ',', ' ', 'whom', ' ', 'he', ' ', 'appointed', ' ', 'the', ' ', 'heir', ' ', 'of', ' ', 'all', ' ', 'things', ',', ' ', 'through', ' ', 'whom', ' ', 'also', ' ', 'he', ' ', 'created', ' ', 'the', ' ', 'world', '.', ' ', 'He', ' ', 'is', ' ', 'the', ' ', 'radiance', ' ', 'of', ' ', 'the', ' ', 'glory', ' ', 'of', ' ', 'God', ' ', 'and', ' ', 'the', ' ', 'exact', ' ', 'imprint', ' ', 'of', ' ', 'his', ' ', 'nature', ',', ' ', 'and', ' ', 'he', ' ', 'upholds', ' ', 'the', ' ', 'universe', ' ', 'by', ' ', 'the', ' ', 'word', ' ', 'of', ' ', 'his', ' ', 'power', '.', ' ', 'After', ' ', 'making', ' ', 'purification', ' ', 'for', ' ', 'sins', ',', ' ', 'he', ' ', 'sat', ' ', 'down', ' ', 'at', ' ', 'the', ' ', 'right', ' ', 'hand', ' ', 'of', ' ', 'the', ' ', 'Majesty', ' ', 'on', ' ', 'high', ',', ' ', 'having', ' ', 'become', ' ', 'as', ' ', 'much', ' ', 'superior', ' ', 'to', ' ', 'angels', ' ', 'as', ' ', 'the', ' ', 'name', ' ', 'he', ' ', 'has', ' ', 'inherited', ' ', 'is', ' ', 'more', ' ', 'excellent', ' ', 'than', ' ', 'theirs', '.', 'For', ' ', 'to', ' ', 'which', ' ', 'of', ' ', 'the', ' ', 'angels', ' ', 'did', ' ', 'God', ' ', 'ever', ' ', 'say', ',', '“', 'You', ' ', 'are', ' ', 'my', ' ', 'Son', ',', 'today', ' ', 'I', ' ', 'have', ' ', 'begotten', ' ', 'you', '”', '?', 'Or', ' ', 'again', ',', '“', 'I', ' ', 'will', ' ', 'be', ' ', 'to', ' ', 'him', ' ', 'a', ' ', 'father', ',', 'and', ' ', 'he', ' ', 'shall', ' ', 'be', ' ', 'to', ' ', 'me', ' ', 'a', ' ', 'son', '”', '?', 'And', ' ', 'again', ',', ' ', 'when', ' ', 'he', ' ', 'brings', ' ', 'the', ' ', 'firstborn', ' ', 'into', ' ', 'the', ' ', 'world', ',', ' ', 'he', ' ', 'says', ',', '“', 'Let', ' ', 'all', ' ', 'God’s', ' ', 'angels', ' ', 'worship', ' ', 'him', '.', '”', 'Of', ' ', 'the', ' ', 'angels', ' ', 'he', ' ', 'says', ',', '“', 'He', ' ', 'makes', ' ', 'his', ' ', 'angels', ' ', 'winds', ',', 'and', ' ', 'his', ' ', 'ministers', ' ', 'a', ' ', 'flame', ' ', 'of', ' ', 'fire', '.', '”', 'But', ' ', 'of', ' ', 'the', ' ', 'Son', ' ', 'he', ' ', 'says', ',', '“', 'Your', ' ', 'throne', ',', ' ', 'O', ' ', 'God', ',', ' ', 'is', ' ', 'forever', ' ', 'and', ' ', 'ever', ',', 'the', ' ', 'scepter', ' ', 'of', ' ', 'uprightness', ' ', 'is', ' ', 'the', ' ', 'scepter', ' ', 'of', ' ', 'your', ' ', 'kingdom', '.', 'You', ' ', 'have', ' ', 'loved', ' ', 'righteousness', ' ', 'and', ' ', 'hated', ' ', 'wickedness', ';', 'therefore', ' ', 'God', ',', ' ', 'your', ' ', 'God', ',', ' ', 'has', ' ', 'anointed', ' ', 'you', 'with', ' ', 'the', ' ', 'oil', ' ', 'of', ' ', 'gladness', ' ', 'beyond', ' ', 'your', ' ', 'companions', '.', '”', 'And', ',', '“', 'You', ',', ' ', 'Lord', ',', ' ', 'laid', ' ', 'the', ' ', 'foundation', ' ', 'of', ' ', 'the', ' ', 'earth', ' ', 'in', ' ', 'the', ' ', 'beginning', ',', 'and', ' ', 'the', ' ', 'heavens', ' ', 'are', ' ', 'the', ' ', 'work', ' ', 'of', ' ', 'your', ' ', 'hands', ';', 'they', ' ', 'will', ' ', 'perish', ',', ' ', 'but', ' ', 'you', ' ', 'remain', ';', 'they', ' ', 'will', ' ', 'all', ' ', 'wear', ' ', 'out', ' ', 'like', ' ', 'a', ' ', 'garment', ',', 'like', ' ', 'a', ' ', 'robe', ' ', 'you', ' ', 'will', ' ', 'roll', ' ', 'them', ' ', 'up', ',', 'like', ' ', 'a', ' ', 'garment', ' ', 'they', ' ', 'will', ' ', 'be', ' ', 'changed', '.', 'But', ' ', 'you', ' ', 'are', ' ', 'the', ' ', 'same', ',', 'and', ' ', 'your', ' ', 'years', ' ', 'will', ' ', 'have', ' ', 'no', ' ', 'end', '.', '”', 'And', ' ', 'to', ' ', 'which', ' ', 'of', ' ', 'the', ' ', 'angels', ' ', 'has', ' ', 'he', ' ', 'ever', ' ', 'said', ',', '“', 'Sit', ' ', 'at', ' ', 'my', ' ', 'right', ' ', 'hand', 'until', ' ', 'I', ' ', 'make', ' ', 'your', ' ', 'enemies', ' ', 'a', ' ', 'footstool', ' ', 'for', ' ', 'your', ' ', 'feet', '”', '?', 'Are', ' ', 'they', ' ', 'not', ' ', 'all', ' ', 'ministering', ' ', 'spirits', ' ', 'sent', ' ', 'out', ' ', 'to', ' ', 'serve', ' ', 'for', ' ', 'the', ' ', 'sake', ' ', 'of', ' ', 'those', ' ', 'who', ' ', 'are', ' ', 'to', ' ', 'inherit', ' ', 'salvation', '?', 'Therefore', ' ', 'we', ' ', 'must', ' ', 'pay', ' ', 'much', ' ', 'closer', ' ', 'attention', ' ', 'to', ' ', 'what', ' ', 'we', ' ', 'have', ' ', 'heard', ',', ' ', 'lest', ' ', 'we', ' ', 'drift', ' ', 'away', ' ', 'from', ' ', 'it', '.', ' ', 'For', ' ', 'since', ' ', 'the', ' ', 'message', ' ', 'declared', ' ', 'by', ' ', 'angels', ' ', 'proved', ' ', 'to', ' ', 'be', ' ', 'reliable', ',', ' ', 'and', ' ', 'every', ' ', 'transgression', ' ', 'or', ' ', 'disobedience', ' ', 'received', ' ', 'a', ' ', 'just', ' ', 'retribution', ',', ' ', 'how', ' ', 'shall', ' ', 'we', ' ', 'escape', ' ', 'if', ' ', 'we', ' ', 'neglect', ' ', 'such', ' ', 'a', ' ', 'great', ' ', 'salvation', '?', ' ', 'It', ' ', 'was', ' ', 'declared', ' ', 'at', ' ', 'first', ' ', 'by', ' ', 'the', ' ', 'Lord', ',', ' ', 'and', ' ', 'it', ' ', 'was', ' ', 'attested', ' ', 'to', ' ', 'us', ' ', 'by', ' ', 'those', ' ', 'who', ' ', 'heard', ',', ' ', 'while', ' ', 'God', ' ', 'also', ' ', 'bore', ' ', 'witness', ' ', 'by', ' ', 'signs', ' ', 'and', ' ', 'wonders', ' ', 'and', ' ', 'various', ' ', 'miracles', ' ', 'and', ' ', 'by', ' ', 'gifts', ' ', 'of', ' ', 'the', ' ', 'Holy', ' ', 'Spirit', ' ', 'distributed', ' ', 'according', ' ', 'to', ' ', 'his', ' ', 'will', '.', 'For', ' ', 'it', ' ', 'was', ' ', 'not', ' ', 'to', ' ', 'angels', ' ', 'that', ' ', 'God', ' ', 'subjected', ' ', 'the', ' ', 'world', ' ', 'to', ' ', 'come', ',', ' ', 'of', ' ', 'which', ' ', 'we', ' ', 'are', ' ', 'speaking', '.', ' ', 'It', ' ', 'has', ' ', 'been', ' ', 'testified', ' ', 'somewhere', ',', '“', 'What', ' ', 'is', ' ', 'man', ',', ' ', 'that', ' ', 'you', ' ', 'are', ' ', 'mindful', ' ', 'of', ' ', 'him', ',', 'or', ' ', 'the', ' ', 'son', ' ', 'of', ' ', 'man', ',', ' ', 'that', ' ', 'you', ' ', 'care', ' ', 'for', ' ', 'him', '?', 'You', ' ', 'made', ' ', 'him', ' ', 'for', ' ', 'a', ' ', 'little', ' ', 'while', ' ', 'lower', ' ', 'than', ' ', 'the', ' ', 'angels', ';', 'you', ' ', 'have', ' ', 'crowned', ' ', 'him', ' ', 'with', ' ', 'glory', ' ', 'and', ' ', 'honor', ',', 'putting', ' ', 'everything', ' ', 'in', ' ', 'subjection', ' ', 'under', ' ', 'his', ' ', 'feet', '.', '”', 'Now', ' ', 'in', ' ', 'putting', ' ', 'everything', ' ', 'in', ' ', 'subjection', ' ', 'to', ' ', 'him', ',', ' ', 'he', ' ', 'left', ' ', 'nothing', ' ', 'outside', ' ', 'his', ' ', 'control', '.', ' ', 'At', ' ', 'present', ',', ' ', 'we', ' ', 'do', ' ', 'not', ' ', 'yet', ' ', 'see', ' ', 'everything', ' ', 'in', ' ', 'subjection', ' ', 'to', ' ', 'him', '.', ' ', 'But', ' ', 'we', ' ', 'see', ' ', 'him', ' ', 'who', ' ', 'for', ' ', 'a', ' ', 'little', ' ', 'while', ' ', 'was', ' ', 'made', ' ', 'lower', ' ', 'than', ' ', 'the', ' ', 'angels', ',', ' ', 'namely', ' ', 'Jesus', ',', ' ', 'crowned', ' ', 'with', ' ', 'glory', ' ', 'and', ' ', 'honor', ' ', 'because', ' ', 'of', ' ', 'the', ' ', 'suffering', ' ', 'of', ' ', 'death', ',', ' ', 'so', ' ', 'that', ' ', 'by', ' ', 'the', ' ', 'grace', ' ', 'of', ' ', 'God', ' ', 'he', ' ', 'might', ' ', 'taste', ' ', 'death', ' ', 'for', ' ', 'everyone', '.', 'For', ' ', 'it', ' ', 'was', ' ', 'fitting', ' ', 'that', ' ', 'he', ',', ' ', 'for', ' ', 'whom', ' ', 'and', ' ', 'by', ' ', 'whom', ' ', 'all', ' ', 'things', ' ', 'exist', ',', ' ', 'in', ' ', 'bringing', ' ', 'many', ' ', 'sons', ' ', 'to', ' ', 'glory', ',', ' ', 'should', ' ', 'make', ' ', 'the', ' ', 'founder', ' ', 'of', ' ', 'their', ' ', 'salvation', ' ', 'perfect', ' ', 'through', ' ', 'suffering', '.', ' ', 'For', ' ', 'he', ' ', 'who', ' ', 'sanctifies', ' ', 'and', ' ', 'those', ' ', 'who', ' ', 'are', ' ', 'sanctified', ' ', 'all', ' ', 'have', ' ', 'one', ' ', 'source', '.', ' ', 'That', ' ', 'is', ' ', 'why', ' ', 'he', ' ', 'is', ' ', 'not', ' ', 'ashamed', ' ', 'to', ' ', 'call', ' ', 'them', ' ', 'brothers', ',', ' ', 'saying', ',', '“', 'I', ' ', 'will', ' ', 'tell', ' ', 'of', ' ', 'your', ' ', 'name', ' ', 'to', ' ', 'my', ' ', 'brothers', ';', 'in', ' ', 'the', ' ', 'midst', ' ', 'of', ' ', 'the', ' ', 'congregation', ' ', 'I', ' ', 'will', ' ', 'sing', ' ', 'your', ' ', 'praise', '.', '”', 'And', ' ', 'again', ',', '“', 'I', ' ', 'will', ' ', 'put', ' ', 'my', ' ', 'trust', ' ', 'in', ' ', 'him', '.', '”', 'And', ' ', 'again', ',', '“', 'Behold', ',', ' ', 'I', ' ', 'and', ' ', 'the', ' ', 'children', ' ', 'God', ' ', 'has', ' ', 'given', ' ', 'me', '.', '”', 'Since', ' ', 'therefore', ' ', 'the', ' ', 'children', ' ', 'share', ' ', 'in', ' ', 'flesh', ' ', 'and', ' ', 'blood', ',', ' ', 'he', ' ', 'himself', ' ', 'likewise', ' ', 'partook', ' ', 'of', ' ', 'the', ' ', 'same', ' ', 'things', ',', ' ', 'that', ' ', 'through', ' ', 'death', ' ', 'he', ' ', 'might', ' ', 'destroy', ' ', 'the', ' ', 'one', ' ', 'who', ' ', 'has', ' ', 'the', ' ', 'power', ' ', 'of', ' ', 'death', ',', ' ', 'that', ' ', 'is', ',', ' ', 'the', ' ', 'devil', ',', ' ', 'and', ' ', 'deliver', ' ', 'all', ' ', 'those', ' ', 'who', ' ', 'through', ' ', 'fear', ' ', 'of', ' ', 'death', ' ', 'were', ' ', 'subject', ' ', 'to', ' ', 'lifelong', ' ', 'slavery', '.', ' ', 'For', ' ', 'surely', ' ', 'it', ' ', 'is', ' ', 'not', ' ', 'angels', ' ', 'that', ' ', 'he', ' ', 'helps', ',', ' ', 'but', ' ', 'he', ' ', 'helps', ' ', 'the', ' ', 'offspring', ' ', 'of', ' ', 'Abraham', '.', ' ', 'Therefore', ' ', 'he', ' ', 'had', ' ', 'to', ' ', 'be', ' ', 'made', ' ', 'like', ' ', 'his', ' ', 'brothers', ' ', 'in', ' ', 'every', ' ', 'respect', ',', ' ', 'so', ' ', 'that', ' ', 'he', ' ', 'might', ' ', 'become', ' ', 'a', ' ', 'merciful', ' ', 'and', ' ', 'faithful', ' ', 'high', ' ', 'priest', ' ', 'in', ' ', 'the', ' ', 'service', ' ', 'of', ' ', 'God', ',', ' ', 'to', ' ', 'make', ' ', 'propitiation', ' ', 'for', ' ', 'the', ' ', 'sins', ' ', 'of', ' ', 'the', ' ', 'people', '.', ' ', 'For', ' ', 'because', ' ', 'he', ' ', 'himself', ' ', 'has', ' ', 'suffered', ' ', 'when', ' ', 'tempted', ',', ' ', 'he', ' ', 'is', ' ', 'able', ' ', 'to', ' ', 'help', ' ', 'those', ' ', 'who', ' ', 'are', ' ', 'being', ' ', 'tempted', '.', 'Therefore', ',', ' ', 'holy', ' ', 'brothers', ',', ' ', 'you', ' ', 'who', ' ', 'share', ' ', 'in', ' ', 'a', ' ', 'heavenly', ' ', 'calling', ',', ' ', 'consider', ' ', 'Jesus', ',', ' ', 'the', ' ', 'apostle', ' ', 'and', ' ', 'high', ' ', 'priest', ' ', 'of', ' ', 'our', ' ', 'confession', ',', ' ', 'who', ' ', 'was', ' ', 'faithful', ' ', 'to', ' ', 'him', ' ', 'who', ' ', 'appointed', ' ', 'him', ',', ' ', 'just', ' ', 'as', ' ', 'Moses', ' ', 'also', ' ', 'was', ' ', 'faithful', ' ', 'in', ' ', 'all', ' ', 'God’s', ' ', 'house', '.', ' ', 'For', ' ', 'Jesus', ' ', 'has', ' ', 'been', ' ', 'counted', ' ', 'worthy', ' ', 'of', ' ', 'more', ' ', 'glory', ' ', 'than', ' ', 'Moses', '—', 'as', ' ', 'much', ' ', 'more', ' ', 'glory', ' ', 'as', ' ', 'the', ' ', 'builder', ' ', 'of', ' ', 'a', ' ', 'house', ' ', 'has', ' ', 'more', ' ', 'honor', ' ', 'than', ' ', 'the', ' ', 'house', ' ', 'itself', '.', ' ', '(', 'For', ' ', 'every', ' ', 'house', ' ', 'is', ' ', 'built', ' ', 'by', ' ', 'someone', ',', ' ', 'but', ' ', 'the', ' ', 'builder', ' ', 'of', ' ', 'all', ' ', 'things', ' ', 'is', ' ', 'God', '.', ')', ' ', 'Now', ' ', 'Moses', ' ', 'was', ' ', 'faithful', ' ', 'in', ' ', 'all', ' ', 'God’s', ' ', 'house', ' ', 'as', ' ', 'a', ' ', 'servant', ',', ' ', 'to', ' ', 'testify', ' ', 'to', ' ', 'the', ' ', 'things', ' ', 'that', ' ', 'were', ' ', 'to', ' ', 'be', ' ', 'spoken', ' ', 'later', ',', ' ', 'but', ' ', 'Christ', ' ', 'is', ' ', 'faithful', ' ', 'over', ' ', 'God’s', ' ', 'house', ' ', 'as', ' ', 'a', ' ', 'son', '.', ' ', 'And', ' ', 'we', ' ', 'are', ' ', 'his', ' ', 'house', ',', ' ', 'if', ' ', 'indeed', ' ', 'we', ' ', 'hold', ' ', 'fast', ' ', 'our', ' ', 'confidence', ' ', 'and', ' ', 'our', ' ', 'boasting', ' ', 'in', ' ', 'our', ' ', 'hope', '.', 'Therefore', ',', ' ', 'as', ' ', 'the', ' ', 'Holy', ' ', 'Spirit', ' ', 'says', ',', '“', 'Today', ',', ' ', 'if', ' ', 'you', ' ', 'hear', ' ', 'his', ' ', 'voice', ',', 'do', ' ', 'not', ' ', 'harden', ' ', 'your', ' ', 'hearts', ' ', 'as', ' ', 'in', ' ', 'the', ' ', 'rebellion', ',', 'on', ' ', 'the', ' ', 'day', ' ', 'of', ' ', 'testing', ' ', 'in', ' ', 'the', ' ', 'wilderness', ',', 'where', ' ', 'your', ' ', 'fathers', ' ', 'put', ' ', 'me', ' ', 'to', ' ', 'the', ' ', 'test', 'and', ' ', 'saw', ' ', 'my', ' ', 'works', ' ', 'for', ' ', 'forty', ' ', 'years', '.', 'Therefore', ' ', 'I', ' ', 'was', ' ', 'provoked', ' ', 'with', ' ', 'that', ' ', 'generation', ',', 'and', ' ', 'said', ',', ' ', '‘', 'They', ' ', 'always', ' ', 'go', ' ', 'astray', ' ', 'in', ' ', 'their', ' ', 'heart', ';', 'they', ' ', 'have', ' ', 'not', ' ', 'known', ' ', 'my', ' ', 'ways', '.', '’', 'As', ' ', 'I', ' ', 'swore', ' ', 'in', ' ', 'my', ' ', 'wrath', ',', '‘', 'They', ' ', 'shall', ' ', 'not', ' ', 'enter', ' ', 'my', ' ', 'rest', '.', '’', '”', 'Take', ' ', 'care', ',', ' ', 'brothers', ',', ' ', 'lest', ' ', 'there', ' ', 'be', ' ', 'in', ' ', 'any', ' ', 'of', ' ', 'you', ' ', 'an', ' ', 'evil', ',', ' ', 'unbelieving', ' ', 'heart', ',', ' ', 'leading', ' ', 'you', ' ', 'to', ' ', 'fall', ' ', 'away', ' ', 'from', ' ', 'the', ' ', 'living', ' ', 'God', '.', ' ', 'But', ' ', 'exhort', ' ', 'one', ' ', 'another', ' ', 'every', ' ', 'day', ',', ' ', 'as', ' ', 'long', ' ', 'as', ' ', 'it', ' ', 'is', ' ', 'called', ' ', '“', 'today', ',', '”', ' ', 'that', ' ', 'none', ' ', 'of', ' ', 'you', ' ', 'may', ' ', 'be', ' ', 'hardened', ' ', 'by', ' ', 'the', ' ', 'deceitfulness', ' ', 'of', ' ', 'sin', '.', ' ', 'For', ' ', 'we', ' ', 'have', ' ', 'come', ' ', 'to', ' ', 'share', ' ', 'in', ' ', 'Christ', ',', ' ', 'if', ' ', 'indeed', ' ', 'we', ' ', 'hold', ' ', 'our', ' ', 'original', ' ', 'confidence', ' ', 'firm', ' ', 'to', ' ', 'the', ' ', 'end', '.', ' ', 'As', ' ', 'it', ' ', 'is', ' ', 'said', ',', '“', 'Today', ',', ' ', 'if', ' ', 'you', ' ', 'hear', ' ', 'his', ' ', 'voice', ',', 'do', ' ', 'not', ' ', 'harden', ' ', 'your', ' ', 'hearts', ' ', 'as', ' ', 'in', ' ', 'the', ' ', 'rebellion', '.', '”', 'For', ' ', 'who', ' ', 'were', ' ', 'those', ' ', 'who', ' ', 'heard', ' ', 'and', ' ', 'yet', ' ', 'rebelled', '?', ' ', 'Was', ' ', 'it', ' ', 'not', ' ', 'all', ' ', 'those', ' ', 'who', ' ', 'left', ' ', 'Egypt', ' ', 'led', ' ', 'by', ' ', 'Moses', '?', ' ', 'And', ' ', 'with', ' ', 'whom', ' ', 'was', ' ', 'he', ' ', 'provoked', ' ', 'for', ' ', 'forty', ' ', 'years', '?', ' ', 'Was', ' ', 'it', ' ', 'not', ' ', 'with', ' ', 'those', ' ', 'who', ' ', 'sinned', ',', ' ', 'whose', ' ', 'bodies', ' ', 'fell', ' ', 'in', ' ', 'the', ' ', 'wilderness', '?', ' ', 'And', ' ', 'to', ' ', 'whom', ' ', 'did', ' ', 'he', ' ', 'swear', ' ', 'that', ' ', 'they', ' ', 'would', ' ', 'not', ' ', 'enter', ' ', 'his', ' ', 'rest', ',', ' ', 'but', ' ', 'to', ' ', 'those', ' ', 'who', ' ', 'were', ' ', 'disobedient', '?', ' ', 'So', ' ', 'we', ' ', 'see', ' ', 'that', ' ', 'they', ' ', 'were', ' ', 'unable', ' ', 'to', ' ', 'enter', ' ', 'because', ' ', 'of', ' ', 'unbelief', '.']\n"
     ]
    }
   ],
   "source": [
    "driver = webdriver.Chrome(chromedriver,chrome_options=options)\n",
    "\n",
    "# update the page here to start where left off. Page is essentially the count as well\n",
    "pagestart=1\n",
    "pageend=2\n",
    "\n",
    "#_url = \"https://www.discogs.com/sell/list?sort=price%2Cdesc&limit=100&year1=1900&year2=1970&format=Vinyl&price=over40&genre=Jazz&currency=USD&style=Hard+Bop&page=\"\n",
    "# not just bebop\n",
    "_url = \"https://www.esv.org/Hebrews+\"\n",
    "url= _url + str(pagestart) + \"/\"\n",
    "\n",
    "# starting url\n",
    "#driver.get(\"https://www.discogs.com/sell/list?sort=price%2Cdesc&limit=100&year1=1900&year2=1970&format=Vinyl&price=over40&genre=Jazz&currency=USD&style=Hard+Bop&page=3#more%3Dyear\")\n",
    "driver.get(url)\n",
    "\n",
    "\n",
    "with open('hebrewstext.csv', 'w',newline='') as csvfile:\n",
    "    file = csv.writer(csvfile)\n",
    "    # make headers\n",
    "    file.writerow(['page_title','page_body','page_head'])\n",
    "    count = pagestart #3\n",
    "\n",
    "    # Make a request\n",
    "    page = requests.get(url)\n",
    "    soup = BeautifulSoup(page.content, 'html.parser')\n",
    "\n",
    "    first_h1 = soup.select('section')[2].text\n",
    "#     print(first_h1)\n",
    "    \n",
    "#     for elem in first_h1:\n",
    "#         title = elem.select('u')[0].text\n",
    "#         review_label = elem.select('div.ratings')[0].text\n",
    "#         info = {\n",
    "#             \"title\": title.strip(),\n",
    "#             \"review\": review_label.strip()\n",
    "#         }\n",
    "#         top_items.append(info)\n",
    "\n",
    "#     print(top_items)\n",
    "    \n",
    "    all_h1_tags=[]\n",
    "    for element in soup.select('u'):\n",
    "        all_h1_tags.append(element.text)\n",
    "\n",
    "    # Create seventh_p_text and set it to 7th p element text of the page\n",
    "#     seventh_p_text = soup.select('p')[6].text\n",
    "\n",
    "    print(all_h1_tags)\n",
    "        \n",
    "    # Extract title of page\n",
    "#     page_title = soup.title.text\n",
    "\n",
    "#     # Extract body of page\n",
    "#     page_body = soup.body\n",
    "\n",
    "#     # Extract head of page\n",
    "#     page_head = soup.head\n",
    "\n",
    "#     # print the result\n",
    "#     print(page_body, page_head)\n",
    "    \n",
    "#     observation = [page_title,page_body,page_head]\n",
    "#     file.writerow(observation)\n",
    "\n",
    "#     time.sleep(.5+2*random.random())\n",
    "            \n",
    "        # go to next page in the marketplace\n",
    "        \n",
    "#     nextpage = \"https://www.esv.org/Hebrews+\" + str(count+1)\n",
    "\n",
    "#     driver.get(nextpage)\n",
    "        \n",
    "#     count = count + 1"
   ]
  },
  {
   "cell_type": "code",
   "execution_count": null,
   "metadata": {},
   "outputs": [],
   "source": []
  },
  {
   "cell_type": "markdown",
   "metadata": {},
   "source": [
    "### Different method for obtaining books\n",
    "- https://github.com/Jamiil92/Bible/blob/master/text/scrape_text.ipynb"
   ]
  },
  {
   "cell_type": "code",
   "execution_count": 42,
   "metadata": {},
   "outputs": [],
   "source": [
    "import os, requests, re, time\n",
    "from bs4 import BeautifulSoup\n",
    "from tqdm.notebook import tqdm\n",
    "tqdm.pandas()"
   ]
  },
  {
   "cell_type": "code",
   "execution_count": 43,
   "metadata": {},
   "outputs": [],
   "source": [
    "root_url = 'https://live.bible.is'"
   ]
  },
  {
   "cell_type": "code",
   "execution_count": 133,
   "metadata": {},
   "outputs": [],
   "source": [
    "#New Testament\n",
    "#fr ref  : 1910 Louis Segond (Tresorsonore recording)\n",
    "#eng ref : King James version \n",
    "\n",
    "#change this to the language you want\n",
    "#language = ['/bible/ENGKJV', '/bible/FRNTLS']\n",
    "language =['/bible/EN1ESV']"
   ]
  },
  {
   "cell_type": "code",
   "execution_count": 134,
   "metadata": {},
   "outputs": [],
   "source": [
    "os.chdir('/Users/chrischan/Documents/02_Class/Metis/bootcamp/githubrepo/bib_hbrws')"
   ]
  },
  {
   "cell_type": "code",
   "execution_count": 135,
   "metadata": {},
   "outputs": [],
   "source": [
    "# New testament books\n",
    "\n",
    "book = ['HEB']\n",
    "\n",
    "#Old + New testament books\n",
    "\n",
    "# book = ['MAT', 'MRK', 'LUK', 'JHN', 'ACT', 'ROM', '1CO', '2CO', 'GAL', 'EPH', 'PHP', 'COL',\n",
    "#         '1TH', '2TH', '1TI', '2TI', 'TIT', 'PHM', 'HEB', 'JAS', '1PE', '2PE', '1JN', '2JN',\n",
    "#         '3JN', 'JUD', 'REV']\n",
    "\n",
    "\n",
    "'''\n",
    "book = [\"GEN\", \"EXO\", \"LEV\", \"NUM\", \"DEU\", \"JOS\", \"JDG\", \"RUT\", \"1SA\", \"2SA\", \"1KI\", \"2KI\",\n",
    "        \"1CH\", \"2CH\", \"EZR\", \"NEH\", \"EST\", \"JOB\", \"PSA\", \"PRO\", \"ECC\", \"SNG\", \"ISA\", \"JER\",\n",
    "        \"LAM\", \"EZK\", \"DAN\", \"HOS\", \"JOL\", \"AMO\", \"OBA\", \"JON\", \"MIC\", \"NAM\", \"HAB\", \"ZEP\",\n",
    "        \"HAG\", \"ZEC\", \"MAL\",'MAT', 'MRK', 'LUK', 'JHN', 'ACT', 'ROM', '1CO', '2CO', 'GAL',\n",
    "        'EPH', 'PHP', 'COL','1TH', '2TH', '1TI', '2TI', 'TIT', 'PHM', 'HEB', 'JAS', '1PE',\n",
    "        '2PE', '1JN', '2JN','3JN', 'JUD', 'REV']\n",
    "'''\n",
    "\n",
    "# create a new directory\n",
    "try:\n",
    "    os.mkdir(f\"{os.curdir}\"+\"/text_Data/\")\n",
    "except FileExistsError:\n",
    "    pass\n",
    "# set the new directory as the current directory\n",
    "os.chdir(f\"{os.curdir}\"+\"/text_Data/\")\n",
    "\n",
    "cur_w_d = os.getcwd()\n",
    "\n",
    "# if you run the cell below, go and check the output at this path\n"
   ]
  },
  {
   "cell_type": "code",
   "execution_count": 136,
   "metadata": {},
   "outputs": [
    {
     "data": {
      "text/plain": [
       "'/Users/chrischan/Documents/02_Class/Metis/bootcamp/githubrepo/bib_hbrws/text_Data'"
      ]
     },
     "execution_count": 136,
     "metadata": {},
     "output_type": "execute_result"
    }
   ],
   "source": [
    "cur_w_d"
   ]
  },
  {
   "cell_type": "code",
   "execution_count": 138,
   "metadata": {
    "scrolled": false
   },
   "outputs": [
    {
     "data": {
      "application/vnd.jupyter.widget-view+json": {
       "model_id": "3491f0028aac4207910d78104574b4d1",
       "version_major": 2,
       "version_minor": 0
      },
      "text/plain": [
       "HBox(children=(HTML(value='lang'), FloatProgress(value=0.0, max=1.0), HTML(value='')))"
      ]
     },
     "metadata": {},
     "output_type": "display_data"
    },
    {
     "data": {
      "application/vnd.jupyter.widget-view+json": {
       "model_id": "611e4509ae684c47911eae194adbe073",
       "version_major": 2,
       "version_minor": 0
      },
      "text/plain": [
       "HBox(children=(HTML(value='book'), FloatProgress(value=0.0, max=1.0), HTML(value='')))"
      ]
     },
     "metadata": {},
     "output_type": "display_data"
    },
    {
     "data": {
      "application/vnd.jupyter.widget-view+json": {
       "model_id": "0caac30498634f0dbdbbf8cc046c57e1",
       "version_major": 2,
       "version_minor": 0
      },
      "text/plain": [
       "HBox(children=(HTML(value='chapter'), FloatProgress(value=0.0, max=29.0), HTML(value='')))"
      ]
     },
     "metadata": {},
     "output_type": "display_data"
    },
    {
     "name": "stdout",
     "output_type": "stream",
     "text": [
      "\n",
      "\n",
      "1 minute break \n",
      " ==============================\n",
      "\n",
      "DONE\n",
      "CPU times: user 740 ms, sys: 186 ms, total: 926 ms\n",
      "Wall time: 17.6 s\n"
     ]
    }
   ],
   "source": [
    "\n",
    "%%time\n",
    "lines = []\n",
    "for i in tqdm(range(len(language)), desc='lang'):\n",
    "    try:\n",
    "        create_lang_dir = cur_w_d+\"/\"+ language[i].split('/')[-1] +\"/\"\n",
    "        os.mkdir(create_lang_dir)\n",
    "    except FileExistsError:\n",
    "        pass\n",
    "    for j in tqdm(range(len(book)), desc='book'):\n",
    "        urls = []\n",
    "        url = root_url + language[i] + \"/\" + book[j] + \"/\"\n",
    "        urls.append(url)\n",
    "        try:\n",
    "            create_book_dir = cur_w_d+\"/\"+language[i].split('/')[-1] +\"/\"+ book[j]+\"/\" \n",
    "            os.mkdir(create_book_dir)\n",
    "        except FileExistsError:\n",
    "            pass\n",
    "        \n",
    "        #book_of_nt = []\n",
    "        for url_item in urls:\n",
    "            for k in tqdm(range(1,30), desc='chapter'): # Set the max number of chapter per book to 30 \n",
    "                page = url_item + str(k)\n",
    "                #print(page)\n",
    "                response = requests.get(page)\n",
    "                if response.url == page :\n",
    "                    #print(response) # display 200 meaning that we successfully access the link\n",
    "                    soup = BeautifulSoup(response.content, \"html.parser\")\n",
    "                    verses = soup.find_all(\"span\", {\"class\": \"\"})\n",
    "                    verses_of_nt = [verse.text for verse in verses]\n",
    "                    verses_of_nt_prep = verses_of_nt[:-15] # a little preprocessing step\n",
    "                    #book_of_nt.append(verses_of_nt_prep)\n",
    "                    \n",
    "                    create_chapter_file_name = cur_w_d+\"/\"+language[i].split('/')[-1] +\"/\"+ book[j]+\"/\"+book[j]+\"_chap_\"+str(k)\n",
    "\n",
    "                    with open(create_chapter_file_name+'.txt', 'a') as file: # specified the name of the file\n",
    "                        # insert chapter prior to verses\n",
    "                        file.write(book[j]+\" \"+str(k)+\":\")\n",
    "                        for verse_no, line in enumerate(iterable=verses_of_nt_prep, start=1):\n",
    "#                             file.write(\"( \"+book[j]+\" \"+str(k)+\":\" +str(verse_no)+\" ), \")\n",
    "#                             file.write(book[j]+\" \"+str(k)+\":\")\n",
    "                            if line !=\"-\":\n",
    "                                file.write(line)\n",
    "                                lines.append(line) # for further preprocessing steps\n",
    "                            else:\n",
    "                                file.write(\"Interlude\")\n",
    "                                lines.append(\"Interlude\") #for further preprocessing steps\n",
    "#                             file.write('\\n')\n",
    "                            file.write(' ')\n",
    "                            \n",
    "                else :\n",
    "                    #print(\"<Response [404]>\") # Because links don't overflow we instead get back to square 1\n",
    "                    break\n",
    "    print(\"1 minute break \\n\",30*\"=\")\n",
    "    time.sleep(5)\n",
    "print(\"DONE\")"
   ]
  },
  {
   "cell_type": "markdown",
   "metadata": {},
   "source": [
    "### Read in txt files"
   ]
  },
  {
   "cell_type": "code",
   "execution_count": 98,
   "metadata": {},
   "outputs": [],
   "source": [
    "with open('/Users/chrischan/Documents/02_Class/Metis/bootcamp/githubrepo/bib_hbrws/text_Data/EN1ESV/HEB/HEB_chap_1.txt', 'r') as file:\n",
    "    data = file.read().replace('\\n', '')"
   ]
  },
  {
   "cell_type": "code",
   "execution_count": 99,
   "metadata": {},
   "outputs": [
    {
     "data": {
      "text/plain": [
       "'Long ago, at many times and in many ways, God spoke to our fathers by the prophets, but in these last days he has spoken to us by his Son, whom he appointed the heir of all things, through whom also he created the world. He is the radiance of the glory of God and the exact imprint of his nature, and he upholds the universe by the word of his power. After making purification for sins, he sat down at the right hand of the Majesty on high, having become as much superior to angels as the name he has inherited is more excellent than theirs. For to which of the angels did God ever say, “You are my Son, today I have begotten you”?Or again, “I will be to him a father, and he shall be to me a son”? And again, when he brings the firstborn into the world, he says, “Let all God’s angels worship him.” Of the angels he says, “He makes his angels winds, and his ministers a flame of fire.” But of the Son he says, “Your throne, O God, is forever and ever, the scepter of uprightness is the scepter of your kingdom. You have loved righteousness and hated wickedness; therefore God, your God, has anointed you with the oil of gladness beyond your companions.” And, “You, Lord, laid the foundation of the earth in the beginning, and the heavens are the work of your hands; they will perish, but you remain; they will all wear out like a garment, like a robe you will roll them up, like a garment they will be changed. But you are the same, and your years will have no end.” And to which of the angels has he ever said, “Sit at my right hand until I make your enemies a footstool for your feet”? Are they not all ministering spirits sent out to serve for the sake of those who are to inherit salvation? '"
      ]
     },
     "execution_count": 99,
     "metadata": {},
     "output_type": "execute_result"
    }
   ],
   "source": [
    "data"
   ]
  },
  {
   "cell_type": "code",
   "execution_count": 122,
   "metadata": {},
   "outputs": [],
   "source": [
    "data = []\n",
    "# path = '.'\n",
    "path = '/Users/chrischan/Documents/02_Class/Metis/bootcamp/githubrepo/bib_hbrws/text_Data/EN1ESV/HEB/'\n",
    "files = [f for f in os.listdir(path)] # if os.path.isfile(f)]\n",
    "for f in files:\n",
    "    with open (path+f, \"r\") as myfile:\n",
    "        data.append(myfile.read())"
   ]
  },
  {
   "cell_type": "code",
   "execution_count": 123,
   "metadata": {},
   "outputs": [],
   "source": [
    "df = pd.DataFrame(data)"
   ]
  },
  {
   "cell_type": "code",
   "execution_count": 124,
   "metadata": {},
   "outputs": [
    {
     "data": {
      "text/html": [
       "<div>\n",
       "<style scoped>\n",
       "    .dataframe tbody tr th:only-of-type {\n",
       "        vertical-align: middle;\n",
       "    }\n",
       "\n",
       "    .dataframe tbody tr th {\n",
       "        vertical-align: top;\n",
       "    }\n",
       "\n",
       "    .dataframe thead th {\n",
       "        text-align: right;\n",
       "    }\n",
       "</style>\n",
       "<table border=\"1\" class=\"dataframe\">\n",
       "  <thead>\n",
       "    <tr style=\"text-align: right;\">\n",
       "      <th></th>\n",
       "      <th>0</th>\n",
       "    </tr>\n",
       "  </thead>\n",
       "  <tbody>\n",
       "    <tr>\n",
       "      <th>0</th>\n",
       "      <td>Now faith is the assurance of things hoped for...</td>\n",
       "    </tr>\n",
       "    <tr>\n",
       "      <th>1</th>\n",
       "      <td>Now even the first covenant had regulations fo...</td>\n",
       "    </tr>\n",
       "    <tr>\n",
       "      <th>2</th>\n",
       "      <td>Now the point in what we are saying is this: w...</td>\n",
       "    </tr>\n",
       "    <tr>\n",
       "      <th>3</th>\n",
       "      <td>For since the law has but a shadow of the good...</td>\n",
       "    </tr>\n",
       "    <tr>\n",
       "      <th>4</th>\n",
       "      <td>Therefore, since we are surrounded by so great...</td>\n",
       "    </tr>\n",
       "    <tr>\n",
       "      <th>5</th>\n",
       "      <td>Let brotherly love continue. Do not neglect to...</td>\n",
       "    </tr>\n",
       "    <tr>\n",
       "      <th>6</th>\n",
       "      <td>Therefore let us leave the elementary doctrine...</td>\n",
       "    </tr>\n",
       "    <tr>\n",
       "      <th>7</th>\n",
       "      <td>For this Melchizedek, king of Salem, priest of...</td>\n",
       "    </tr>\n",
       "    <tr>\n",
       "      <th>8</th>\n",
       "      <td>For every high priest chosen from among men is...</td>\n",
       "    </tr>\n",
       "    <tr>\n",
       "      <th>9</th>\n",
       "      <td>Therefore, while the promise of entering his r...</td>\n",
       "    </tr>\n",
       "    <tr>\n",
       "      <th>10</th>\n",
       "      <td>Long ago, at many times and in many ways, God ...</td>\n",
       "    </tr>\n",
       "    <tr>\n",
       "      <th>11</th>\n",
       "      <td>Therefore, holy brothers, you who share in a h...</td>\n",
       "    </tr>\n",
       "    <tr>\n",
       "      <th>12</th>\n",
       "      <td>Therefore we must pay much closer attention to...</td>\n",
       "    </tr>\n",
       "  </tbody>\n",
       "</table>\n",
       "</div>"
      ],
      "text/plain": [
       "                                                    0\n",
       "0   Now faith is the assurance of things hoped for...\n",
       "1   Now even the first covenant had regulations fo...\n",
       "2   Now the point in what we are saying is this: w...\n",
       "3   For since the law has but a shadow of the good...\n",
       "4   Therefore, since we are surrounded by so great...\n",
       "5   Let brotherly love continue. Do not neglect to...\n",
       "6   Therefore let us leave the elementary doctrine...\n",
       "7   For this Melchizedek, king of Salem, priest of...\n",
       "8   For every high priest chosen from among men is...\n",
       "9   Therefore, while the promise of entering his r...\n",
       "10  Long ago, at many times and in many ways, God ...\n",
       "11  Therefore, holy brothers, you who share in a h...\n",
       "12  Therefore we must pay much closer attention to..."
      ]
     },
     "execution_count": 124,
     "metadata": {},
     "output_type": "execute_result"
    }
   ],
   "source": [
    "df"
   ]
  },
  {
   "cell_type": "code",
   "execution_count": null,
   "metadata": {},
   "outputs": [],
   "source": []
  },
  {
   "cell_type": "markdown",
   "metadata": {},
   "source": [
    "## Data Cleaning"
   ]
  },
  {
   "cell_type": "code",
   "execution_count": 7,
   "metadata": {},
   "outputs": [],
   "source": [
    "breaks = lambda x: re.sub(\"\\n\", \" \", x)\n",
    "alphanumeric = lambda x: re.sub(\"\\w*\\d\\w*\", \"\", x)\n",
    "punc_lower = lambda x: re.sub(\"[%s]\" % re.escape(string.punctuation), \"\", x.lower())"
   ]
  },
  {
   "cell_type": "code",
   "execution_count": 8,
   "metadata": {},
   "outputs": [],
   "source": [
    "df[\"textmod\"] = df[\"text\"].map(breaks).map(alphanumeric).map(punc_lower)\n",
    "df[\"character\"] = df[\"character\"].str.lower()"
   ]
  },
  {
   "cell_type": "code",
   "execution_count": 9,
   "metadata": {},
   "outputs": [
    {
     "data": {
      "text/html": [
       "<div>\n",
       "<style scoped>\n",
       "    .dataframe tbody tr th:only-of-type {\n",
       "        vertical-align: middle;\n",
       "    }\n",
       "\n",
       "    .dataframe tbody tr th {\n",
       "        vertical-align: top;\n",
       "    }\n",
       "\n",
       "    .dataframe thead th {\n",
       "        text-align: right;\n",
       "    }\n",
       "</style>\n",
       "<table border=\"1\" class=\"dataframe\">\n",
       "  <thead>\n",
       "    <tr style=\"text-align: right;\">\n",
       "      <th></th>\n",
       "      <th>character</th>\n",
       "      <th>text</th>\n",
       "      <th>episodeno</th>\n",
       "      <th>seid</th>\n",
       "      <th>season</th>\n",
       "      <th>textmod</th>\n",
       "    </tr>\n",
       "  </thead>\n",
       "  <tbody>\n",
       "    <tr>\n",
       "      <th>0</th>\n",
       "      <td>jerry</td>\n",
       "      <td>Do you know what this is all about? Do you kno...</td>\n",
       "      <td>1</td>\n",
       "      <td>S01E01</td>\n",
       "      <td>1</td>\n",
       "      <td>do you know what this is all about do you know...</td>\n",
       "    </tr>\n",
       "    <tr>\n",
       "      <th>1</th>\n",
       "      <td>jerry</td>\n",
       "      <td>(pointing at Georges shirt) See, to me, that b...</td>\n",
       "      <td>1</td>\n",
       "      <td>S01E01</td>\n",
       "      <td>1</td>\n",
       "      <td>pointing at georges shirt see to me that butto...</td>\n",
       "    </tr>\n",
       "    <tr>\n",
       "      <th>2</th>\n",
       "      <td>george</td>\n",
       "      <td>Are you through?</td>\n",
       "      <td>1</td>\n",
       "      <td>S01E01</td>\n",
       "      <td>1</td>\n",
       "      <td>are you through</td>\n",
       "    </tr>\n",
       "    <tr>\n",
       "      <th>3</th>\n",
       "      <td>jerry</td>\n",
       "      <td>You do of course try on, when you buy?</td>\n",
       "      <td>1</td>\n",
       "      <td>S01E01</td>\n",
       "      <td>1</td>\n",
       "      <td>you do of course try on when you buy</td>\n",
       "    </tr>\n",
       "    <tr>\n",
       "      <th>4</th>\n",
       "      <td>george</td>\n",
       "      <td>Yes, it was purple, I liked it, I dont actuall...</td>\n",
       "      <td>1</td>\n",
       "      <td>S01E01</td>\n",
       "      <td>1</td>\n",
       "      <td>yes it was purple i liked it i dont actually r...</td>\n",
       "    </tr>\n",
       "    <tr>\n",
       "      <th>...</th>\n",
       "      <td>...</td>\n",
       "      <td>...</td>\n",
       "      <td>...</td>\n",
       "      <td>...</td>\n",
       "      <td>...</td>\n",
       "      <td>...</td>\n",
       "    </tr>\n",
       "    <tr>\n",
       "      <th>54593</th>\n",
       "      <td>jerry</td>\n",
       "      <td>Grand theft auto - don't steal any of my jokes.</td>\n",
       "      <td>23</td>\n",
       "      <td>S09E23</td>\n",
       "      <td>9</td>\n",
       "      <td>grand theft auto  dont steal any of my jokes</td>\n",
       "    </tr>\n",
       "    <tr>\n",
       "      <th>54594</th>\n",
       "      <td>prisoner 3</td>\n",
       "      <td>You suck - I'm gonna cut you.</td>\n",
       "      <td>23</td>\n",
       "      <td>S09E23</td>\n",
       "      <td>9</td>\n",
       "      <td>you suck  im gonna cut you</td>\n",
       "    </tr>\n",
       "    <tr>\n",
       "      <th>54595</th>\n",
       "      <td>jerry</td>\n",
       "      <td>Hey, I don't come down to where you work, and ...</td>\n",
       "      <td>23</td>\n",
       "      <td>S09E23</td>\n",
       "      <td>9</td>\n",
       "      <td>hey i dont come down to where you work and kno...</td>\n",
       "    </tr>\n",
       "    <tr>\n",
       "      <th>54596</th>\n",
       "      <td>guard</td>\n",
       "      <td>Alright, Seinfeld, that's it. Let's go. Come on.</td>\n",
       "      <td>23</td>\n",
       "      <td>S09E23</td>\n",
       "      <td>9</td>\n",
       "      <td>alright seinfeld thats it lets go come on</td>\n",
       "    </tr>\n",
       "    <tr>\n",
       "      <th>54597</th>\n",
       "      <td>jerry</td>\n",
       "      <td>Alright, hey, you've been great! See you in th...</td>\n",
       "      <td>23</td>\n",
       "      <td>S09E23</td>\n",
       "      <td>9</td>\n",
       "      <td>alright hey youve been great see you in the ca...</td>\n",
       "    </tr>\n",
       "  </tbody>\n",
       "</table>\n",
       "<p>54598 rows × 6 columns</p>\n",
       "</div>"
      ],
      "text/plain": [
       "        character                                               text  \\\n",
       "0           jerry  Do you know what this is all about? Do you kno...   \n",
       "1           jerry  (pointing at Georges shirt) See, to me, that b...   \n",
       "2          george                                   Are you through?   \n",
       "3           jerry             You do of course try on, when you buy?   \n",
       "4          george  Yes, it was purple, I liked it, I dont actuall...   \n",
       "...           ...                                                ...   \n",
       "54593       jerry    Grand theft auto - don't steal any of my jokes.   \n",
       "54594  prisoner 3                      You suck - I'm gonna cut you.   \n",
       "54595       jerry  Hey, I don't come down to where you work, and ...   \n",
       "54596       guard   Alright, Seinfeld, that's it. Let's go. Come on.   \n",
       "54597       jerry  Alright, hey, you've been great! See you in th...   \n",
       "\n",
       "       episodeno    seid  season  \\\n",
       "0              1  S01E01       1   \n",
       "1              1  S01E01       1   \n",
       "2              1  S01E01       1   \n",
       "3              1  S01E01       1   \n",
       "4              1  S01E01       1   \n",
       "...          ...     ...     ...   \n",
       "54593         23  S09E23       9   \n",
       "54594         23  S09E23       9   \n",
       "54595         23  S09E23       9   \n",
       "54596         23  S09E23       9   \n",
       "54597         23  S09E23       9   \n",
       "\n",
       "                                                 textmod  \n",
       "0      do you know what this is all about do you know...  \n",
       "1      pointing at georges shirt see to me that butto...  \n",
       "2                                        are you through  \n",
       "3                   you do of course try on when you buy  \n",
       "4      yes it was purple i liked it i dont actually r...  \n",
       "...                                                  ...  \n",
       "54593       grand theft auto  dont steal any of my jokes  \n",
       "54594                         you suck  im gonna cut you  \n",
       "54595  hey i dont come down to where you work and kno...  \n",
       "54596          alright seinfeld thats it lets go come on  \n",
       "54597  alright hey youve been great see you in the ca...  \n",
       "\n",
       "[54598 rows x 6 columns]"
      ]
     },
     "execution_count": 9,
     "metadata": {},
     "output_type": "execute_result"
    }
   ],
   "source": [
    "df"
   ]
  },
  {
   "cell_type": "code",
   "execution_count": null,
   "metadata": {},
   "outputs": [],
   "source": []
  },
  {
   "cell_type": "code",
   "execution_count": null,
   "metadata": {},
   "outputs": [],
   "source": []
  },
  {
   "cell_type": "code",
   "execution_count": null,
   "metadata": {},
   "outputs": [],
   "source": []
  },
  {
   "cell_type": "code",
   "execution_count": null,
   "metadata": {},
   "outputs": [],
   "source": []
  },
  {
   "cell_type": "code",
   "execution_count": null,
   "metadata": {},
   "outputs": [],
   "source": []
  },
  {
   "cell_type": "code",
   "execution_count": null,
   "metadata": {},
   "outputs": [],
   "source": []
  }
 ],
 "metadata": {
  "kernelspec": {
   "display_name": "Python 3",
   "language": "python",
   "name": "python3"
  },
  "language_info": {
   "codemirror_mode": {
    "name": "ipython",
    "version": 3
   },
   "file_extension": ".py",
   "mimetype": "text/x-python",
   "name": "python",
   "nbconvert_exporter": "python",
   "pygments_lexer": "ipython3",
   "version": "3.8.5"
  }
 },
 "nbformat": 4,
 "nbformat_minor": 4
}
